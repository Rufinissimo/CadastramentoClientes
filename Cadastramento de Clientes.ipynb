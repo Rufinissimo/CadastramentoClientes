{
 "cells": [
  {
   "cell_type": "markdown",
   "metadata": {},
   "source": [
    "##### Importar as bibliotecas e configurações para criar o navegador:"
   ]
  },
  {
   "cell_type": "code",
   "execution_count": 1,
   "metadata": {},
   "outputs": [],
   "source": [
    "\"\"\"\n",
    "    Importar as bibliotecas e métodos necessários para o controle de navegação.\n",
    "\"\"\"\n",
    "\n",
    "from selenium import webdriver  # Permite o controle do navegador\n",
    "from selenium.webdriver.chrome.service import Service  # Permite gerenciar o ChromeDriver\n",
    "from webdriver_manager.chrome import ChromeDriverManager  # Facilita a instalação automática do ChromeDriver\n",
    "from selenium.webdriver.common.by import By  # Permite localizar elementos na página\n",
    "import time  # Permite determinar pausas durante a execução\n",
    "\n",
    "\n",
    "def get_chrome_options(download_dir):\n",
    "    \"\"\"\n",
    "        Função criada para determinar as configurações do WebDriver.\n",
    "\n",
    "        Parâmetros: Caminho do diretório dos arquivos.\n",
    "    \"\"\"\n",
    "\n",
    "    options = webdriver.ChromeOptions()  # Cria um objeto de opções do Chrome\n",
    "    options.add_experimental_option(\"prefs\", {  # Adiciona preferências experimentais\n",
    "        \"download.default_directory\": download_dir,  # Define o diretório padrão para downloads\n",
    "        \"download.prompt_for_download\": False,  # Impede o prompt de download\n",
    "        \"download.directory_upgrade\": True,  # Permite atualização do diretório de download\n",
    "        \"safebrowsing.enabled\": True  # Habilita navegação segura\n",
    "    })\n",
    "    return options  # Retorna as opções configuradas\n",
    "\n",
    "\n",
    "\"\"\"\n",
    "    Definir o caminho de diretório de downloads.\n",
    "    Aplicar as configurações de WebDriver e ChromeDriver ao nevegador.\n",
    "\"\"\"\n",
    "\n",
    "download_directory = r\"\"  # Determinar o caminho de diretório\n",
    "servico = Service(ChromeDriverManager().install())  # Instala e inicializa o ChromeDriver automaticamente\n",
    "navegador = webdriver.Chrome(service=servico, options=get_chrome_options(download_directory))  # Inicializa o navegador com as opções configuradas\n",
    "\n",
    "\n",
    "navegador.maximize_window()"
   ]
  },
  {
   "cell_type": "markdown",
   "metadata": {},
   "source": [
    "##### Importar o caminho de acesso ao arquivo html para login; usar a biblioteca OS:"
   ]
  },
  {
   "cell_type": "code",
   "execution_count": 2,
   "metadata": {},
   "outputs": [],
   "source": [
    "import os\n",
    "\n",
    "\"\"\"\n",
    "    Interagir com o sistema operacional\n",
    "    Obter o diretório de trabalho atual.\n",
    "    Constuir o caminho completo para o determinado arquivo no diretório.\n",
    "\"\"\"\n",
    "\n",
    "caminho = os.getcwd()\n",
    "arquivo = caminho + r'' # Concatenar caminho + r'endereço do arquivo html'\n",
    "navegador.get(arquivo)  \n"
   ]
  },
  {
   "cell_type": "markdown",
   "metadata": {},
   "source": [
    "##### Importar a base de dados dos clientes:"
   ]
  },
  {
   "cell_type": "code",
   "execution_count": null,
   "metadata": {},
   "outputs": [],
   "source": [
    "\n",
    "import pandas as pd\n",
    "\n",
    "\"\"\"\n",
    "    Importar a base de dados para análise.\n",
    "    Gerar tabela usando pd.read_excel().\n",
    "\n",
    "        Usar reset.index() para ajustar os índices da tabela.\n",
    "\"\"\"\n",
    "\n",
    "tabela = pd.read_excel('') # Inserir o arquivo com a base de dados para a tabela\n",
    "\n",
    "tabela.reset_index(drop=True, inplace=True) # Reseta o índice do DataFrame, descartando o índice atual e mantendo o DataFrame em seu lugar\n",
    "tabela.index += 1 # Ajusta o índice do DataFrame para começar em 1 em vez de 0\n",
    "\n",
    "display(tabela)  \n"
   ]
  },
  {
   "cell_type": "markdown",
   "metadata": {},
   "source": [
    "##### Preencher os inputs de login e senha:"
   ]
  },
  {
   "cell_type": "code",
   "execution_count": 5,
   "metadata": {},
   "outputs": [],
   "source": [
    "\"\"\"\n",
    "    Inserir dados de login e senha.\n",
    "    Usar find_element(BY.) determinando o elemento para a busca e os argumentos.\n",
    "        \n",
    "        Buscar por elementos XPATH, NAME, CLASS, etc.\n",
    "\n",
    "        1º argumento: Nome ou endereço do elemento na página.\n",
    "        2º argumento: Dado de login ou senha.\n",
    "\n",
    "        \n",
    "    Exemplos:\n",
    "\n",
    "        Inserir login:\n",
    "        --> navegador.find_element(By.XPATH, 'endereço XPATH do input de login').send_keys('nome do usuário')\n",
    "\n",
    "        Inserir senha:\n",
    "        --> navegador.find_element(By.XPATH, 'endereço XPATH do input de senha').send_keys('senha do usuário')\n",
    "\"\"\"\n",
    "\n",
    " # Inserir login:\n",
    "navegador.find_element(By.ELEMENTO, 'NOME OU ENDEREÇO DO ELEMENTO').send_keys('')\n",
    "time.sleep(0.5)\n",
    "\n",
    " # Inserir senha:\n",
    "navegador.find_element(By.ELEMENTO, 'NOME OU ENDEREÇO DO ELEMENTO').send_keys('')\n",
    "time.sleep(0.5)\n",
    "\n",
    " # Clicar no botão Enter:\n",
    "navegador.find_element(By.ELEMENTO, 'NOME OU ENDEREÇO DO ELEMENTO').click()"
   ]
  },
  {
   "cell_type": "markdown",
   "metadata": {},
   "source": [
    "##### Preencher o formulário com os dados de cada cliente; usar uma estrutura for:"
   ]
  },
  {
   "cell_type": "code",
   "execution_count": 6,
   "metadata": {},
   "outputs": [],
   "source": [
    "for linha in tabela.index:\n",
    "\n",
    "    time.sleep(0.3)\n",
    "\n",
    "    \"\"\"\n",
    "        Gerar um comando interagindo com cada elemento da base de dados.\n",
    "        Usar tabela.loc[] para inserir os dados de cada coluna.\n",
    "        Usar find_element(BY.) determinando o elemento para a busca e os argumentos:\n",
    "\n",
    "            Buscar por elementos XPATH, NAME, CLASS, etc.\n",
    "\n",
    "            1º argumento: nome ou endereço do elemento na página.\n",
    "            2º argumento: nome da coluna na base de dados.\n",
    "\n",
    "            \n",
    "        Exemplos:\n",
    "\n",
    "            Preencher a barra de Nome\\Razão Social:\n",
    "            --> navegador.find_element(By.NAME, 'nome (nome do elemento)').send_keys(tabela.loc[linha, 'Cliente'])\n",
    "\n",
    "            Preencher a barra de Endereço:\n",
    "            --> navegador.find_element(By.NAME, 'endereco (nome do elemento)').send_keys(tabela.loc[linha, 'Endereço'])\n",
    "    \"\"\"\n",
    "\n",
    "    navegador.find_element(By.ELEMENTO, 'NOME OU ENDEREÇO DO ELEMENTO').send_keys(tabela.loc[linha, '']) \n"
   ]
  },
  {
   "cell_type": "markdown",
   "metadata": {},
   "source": [
    "##### Fechar o navegador e encerrar o processo:"
   ]
  },
  {
   "cell_type": "code",
   "execution_count": 7,
   "metadata": {},
   "outputs": [],
   "source": [
    "# navegador.quit()"
   ]
  }
 ],
 "metadata": {
  "kernelspec": {
   "display_name": "base",
   "language": "python",
   "name": "python3"
  },
  "language_info": {
   "codemirror_mode": {
    "name": "ipython",
    "version": 3
   },
   "file_extension": ".py",
   "mimetype": "text/x-python",
   "name": "python",
   "nbconvert_exporter": "python",
   "pygments_lexer": "ipython3",
   "version": "3.12.3"
  }
 },
 "nbformat": 4,
 "nbformat_minor": 2
}
